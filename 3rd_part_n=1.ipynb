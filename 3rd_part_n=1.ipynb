{
 "cells": [
  {
   "cell_type": "markdown",
   "metadata": {},
   "source": [
    "# 442 Poisson Fit"
   ]
  },
  {
   "cell_type": "code",
   "execution_count": 1,
   "metadata": {},
   "outputs": [
    {
     "name": "stdout",
     "output_type": "stream",
     "text": [
      "Welcome to JupyROOT 6.16/00\n"
     ]
    }
   ],
   "source": [
    "#Import ueful librarie and functions to use in your analysis\n",
    "import numpy as np\n",
    "from scipy.stats import poisson\n",
    "import matplotlib.pyplot as plt\n",
    "\n",
    "from ROOT import TCanvas, TGraphErrors, TF1, TH1F, gStyle\n",
    "from ROOT import gROOT\n",
    "from array import array"
   ]
  },
  {
   "cell_type": "code",
   "execution_count": 2,
   "metadata": {},
   "outputs": [],
   "source": [
    "data=[1,\n",
    "2.2,\n",
    "2.1,\n",
    "1.3,\n",
    "1.5,\n",
    "1.9,\n",
    "2.1,\n",
    "1.4,\n",
    "1,\n",
    "1.2,\n",
    "1.4,\n",
    "2.1,\n",
    "1.5,\n",
    "1.5,\n",
    "1.9,\n",
    "2.3,\n",
    "1.9,\n",
    "1.5,\n",
    "2.5,\n",
    "2.3,\n",
    "1.5,\n",
    "0.9,\n",
    "0.9,\n",
    "1.2,\n",
    "1.8,\n",
    "2.3,\n",
    "2.7,\n",
    "2.4,\n",
    "2.4,\n",
    "2.1,\n",
    "1.5,\n",
    "1.8,\n",
    "1.4,\n",
    "2.2,\n",
    "3,\n",
    "1.4,\n",
    "0.5,\n",
    "0.6,\n",
    "0.5,\n",
    "0.4,\n",
    "0.8,\n",
    "0.8,\n",
    "1.1,\n",
    "4.4,\n",
    "4.7,\n",
    "2.5,\n",
    "2.9,\n",
    "2.8,\n",
    "2.4,\n",
    "2.4,\n",
    "1.7,\n",
    "0.9,\n",
    "1.3,\n",
    "1.3,\n",
    "1.1,\n",
    "1.3,\n",
    "2.1,\n",
    "2.3,\n",
    "2,\n",
    "1.6,\n",
    "2.5,\n",
    "5.1,\n",
    "3.7,\n",
    "1.5,\n",
    "1,\n",
    "0.5,\n",
    "2.3,\n",
    "2.9,\n",
    "4.3,\n",
    "3.8,\n",
    "1,\n",
    "1.7,\n",
    "1.4,\n",
    "1.1,\n",
    "1.3,\n",
    "1.7,\n",
    "1.5,\n",
    "1.8,\n",
    "3.5,\n",
    "3.9,\n",
    "3.7,\n",
    "2.5,\n",
    "0.9,\n",
    "0.8,\n",
    "1.8,\n",
    "2,\n",
    "1.3,\n",
    "1.5,\n",
    "1.4,\n",
    "0.9,\n",
    "1.1,\n",
    "1.2,\n",
    "1.5,\n",
    "1.9,\n",
    "1.3,\n",
    "0.5,\n",
    "1.7,\n",
    "2.8,\n",
    "2.1,\n",
    "2,\n",
    "1.4,\n",
    "1.8,\n",
    "2,\n",
    "1,\n",
    "1.3,\n",
    "1.1,\n",
    "1.3,\n",
    "1.9,\n",
    "1.9,\n",
    "4.2,\n",
    "4.3,\n",
    "1.6,\n",
    "1.8,\n",
    "1.6,\n",
    "1.1,\n",
    "1.1,\n",
    "1.1]"
   ]
  },
  {
   "cell_type": "code",
   "execution_count": 34,
   "metadata": {},
   "outputs": [
    {
     "data": {
      "image/png": "[encoded data removed]",
      "text/plain": [
       "<Figure size 432x288 with 1 Axes>"
      ]
     },
     "metadata": {
      "needs_background": "light"
     },
     "output_type": "display_data"
    }
   ],
   "source": [
    "#Plot the histogram of your data with a given bin number (here 16)\n",
    "plt.figure()\n",
    "plt.hist(data,16)\n",
    "plt.ylabel(\"N\")\n",
    "plt.xlabel(\"Number of counts\")\n",
    "plt.title(\"n=1 time difference\")\n",
    "plt.show()"
   ]
  },
  {
   "cell_type": "code",
   "execution_count": 31,
   "metadata": {
    "scrolled": true
   },
   "outputs": [
    {
     "name": "stderr",
     "output_type": "stream",
     "text": [
      "Warning in <TCanvas::Constructor>: Deleting canvas with same name: c1\n",
      "Warning in <TROOT::Append>: Replacing existing TH1: histo (Potential memory leak).\n"
     ]
    },
    {
     "data": {
      "image/png": "[encoded data removed]",
      "text/plain": [
       "<IPython.core.display.Image object>"
      ]
     },
     "metadata": {},
     "output_type": "display_data"
    }
   ],
   "source": [
    "#Create a canvas to draw your histograms and functions\n",
    "c1 = TCanvas( 'c1', 'Poisson Graph', 200, 10, 600, 400 ) \n",
    "\n",
    "#define a histogram with 20 bins between 60-120 (Change these values according to your data sets!!!)\n",
    "histo = TH1F(\"histo\", \"n=1 distribution\",16,0,5) \n",
    "\n",
    "#Label the X-Y axis\n",
    "histo.GetYaxis().SetTitle(\"N\")\n",
    "histo.GetXaxis ().SetTitle (\"Number of decays \");\n",
    "\n",
    "#Fill the randomly generated data into your histogram\n",
    "for data_point in data:\n",
    "    histo.Fill(data_point)\n",
    "\n",
    "#Draw your histogram with error bars and draw it on the canvas\n",
    "histo.Draw(\"E\")\n",
    "c1.Draw()"
   ]
  },
  {
   "cell_type": "code",
   "execution_count": 35,
   "metadata": {},
   "outputs": [
    {
     "name": "stdout",
     "output_type": "stream",
     "text": [
      " FCN=20.5793 FROM MINOS     STATUS=SUCCESSFUL     30 CALLS          98 TOTAL\n",
      "                     EDM=3.47147e-09    STRATEGY= 1      ERROR MATRIX ACCURATE \n",
      "  EXT PARAMETER                                   STEP         FIRST   \n",
      "  NO.   NAME      VALUE            ERROR          SIZE      DERIVATIVE \n",
      "   1  p0           3.38734e+01   3.49856e+00   2.45445e-03   1.47484e-07\n",
      "   2  p1           9.80050e-01   7.38264e-02   7.38264e-02  -6.65841e-05\n"
     ]
    },
    {
     "data": {
      "image/png": "[encoded data removed]",
      "text/plain": [
       "<IPython.core.display.Image object>"
      ]
     },
     "metadata": {},
     "output_type": "display_data"
    }
   ],
   "source": [
    "# Define the Poisson function from TMath library in ROOT to fit with two parameters:\n",
    "#[0]: normalizing constant\n",
    "#[1]: mean\n",
    "fpois = TF1(\"fpois\",\"[0]*exp(-[1]*x)*([1]**2)*x\",0.4,5.1) #(Change interval values (60,120) according to your data sets!!!)\n",
    "\n",
    "#Set the parameters to guide the ROOT fitter to converge easily and fit your histogram\n",
    "fpois.SetParameters(20, 1) # give reasonable estimates for your parameters to guide ROOT fit to converge\n",
    "fpois.SetFillColor(41);\n",
    "histo.Fit(\"fpois\", \"E\")\n",
    "histo.SetTitle(\"n=1 Parametric Fit\")\n",
    "#Set the options to display fit parameters and chi_squared value on the graph\n",
    "gStyle.SetOptFit(1111)\n",
    "\n",
    "c1.Draw()"
   ]
  },
  {
   "cell_type": "code",
   "execution_count": null,
   "metadata": {},
   "outputs": [],
   "source": []
  },
  {
   "cell_type": "code",
   "execution_count": null,
   "metadata": {},
   "outputs": [],
   "source": []
  }
 ],
 "metadata": {
  "kernelspec": {
   "display_name": "Python 2",
   "language": "python",
   "name": "python2"
  },
  "language_info": {
   "codemirror_mode": {
    "name": "ipython",
    "version": 2
   },
   "file_extension": ".py",
   "mimetype": "text/x-python",
   "name": "python",
   "nbconvert_exporter": "python",
   "pygments_lexer": "ipython2",
   "version": "2.7.15+"
  }
 },
 "nbformat": 4,
 "nbformat_minor": 2
}
